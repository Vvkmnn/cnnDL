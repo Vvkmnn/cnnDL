{
 "cells": [
  {
   "cell_type": "markdown",
   "metadata": {},
   "source": [
    "# Image Classification\n",
    "\n",
    "In this project, you'll classify images from the [CIFAR-10 dataset](https://www.cs.toronto.edu/~kriz/cifar.html).  The dataset consists of airplanes, dogs, cats, and other objects. You'll preprocess the images, then train a convolutional neural network on all the samples. The images need to be normalized and the labels need to be one-hot encoded.  You'll get to apply what you learned and build a convolutional, max pooling, dropout, and fully connected layers.  At the end, you'll get to see your neural network's predictions on the sample images."
   ]
  },
  {
   "cell_type": "markdown",
   "metadata": {
    "collapsed": true
   },
   "source": [
    "## Get the Data\n",
    "Run the following cell to download the [CIFAR-10 dataset for python](https://www.cs.toronto.edu/~kriz/cifar-10-python.tar.gz)."
   ]
  },
  {
   "cell_type": "code",
   "execution_count": 1,
   "metadata": {},
   "outputs": [
    {
     "name": "stderr",
     "output_type": "stream",
     "text": [
      "CIFAR-10 Dataset: 171MB [00:17, 9.79MB/s]                              \n"
     ]
    },
    {
     "name": "stdout",
     "output_type": "stream",
     "text": [
      "All files found!\n"
     ]
    }
   ],
   "source": [
    "\"\"\"\n",
    "DON'T MODIFY ANYTHING IN THIS CELL THAT IS BELOW THIS LINE\n",
    "\"\"\"\n",
    "from urllib.request import urlretrieve\n",
    "from os.path import isfile, isdir\n",
    "from tqdm import tqdm\n",
    "import problem_unittests as tests\n",
    "import tarfile\n",
    "\n",
    "cifar10_dataset_folder_path = 'cifar-10-batches-py'\n",
    "\n",
    "# Use Floyd's cifar-10 dataset if present\n",
    "floyd_cifar10_location = '/input/cifar-10/python.tar.gz'\n",
    "if isfile(floyd_cifar10_location):\n",
    "    tar_gz_path = floyd_cifar10_location\n",
    "else:\n",
    "    tar_gz_path = 'cifar-10-python.tar.gz'\n",
    "\n",
    "class DLProgress(tqdm):\n",
    "    last_block = 0\n",
    "\n",
    "    def hook(self, block_num=1, block_size=1, total_size=None):\n",
    "        self.total = total_size\n",
    "        self.update((block_num - self.last_block) * block_size)\n",
    "        self.last_block = block_num\n",
    "\n",
    "if not isfile(tar_gz_path):\n",
    "    with DLProgress(unit='B', unit_scale=True, miniters=1, desc='CIFAR-10 Dataset') as pbar:\n",
    "        urlretrieve(\n",
    "            'https://www.cs.toronto.edu/~kriz/cifar-10-python.tar.gz',\n",
    "            tar_gz_path,\n",
    "            pbar.hook)\n",
    "\n",
    "if not isdir(cifar10_dataset_folder_path):\n",
    "    with tarfile.open(tar_gz_path) as tar:\n",
    "        tar.extractall()\n",
    "        tar.close()\n",
    "\n",
    "\n",
    "tests.test_folder_path(cifar10_dataset_folder_path)"
   ]
  },
  {
   "cell_type": "markdown",
   "metadata": {},
   "source": [
    "## Explore the Data\n",
    "The dataset is broken into batches to prevent your machine from running out of memory.  The CIFAR-10 dataset consists of 5 batches, named `data_batch_1`, `data_batch_2`, etc.. Each batch contains the labels and images that are one of the following:\n",
    "* airplane\n",
    "* automobile\n",
    "* bird\n",
    "* cat\n",
    "* deer\n",
    "* dog\n",
    "* frog\n",
    "* horse\n",
    "* ship\n",
    "* truck\n",
    "\n",
    "Understanding a dataset is part of making predictions on the data.  Play around with the code cell below by changing the `batch_id` and `sample_id`. The `batch_id` is the id for a batch (1-5). The `sample_id` is the id for a image and label pair in the batch.\n",
    "\n",
    "Ask yourself \"What are all possible labels?\", \"What is the range of values for the image data?\", \"Are the labels in order or random?\".  Answers to questions like these will help you preprocess the data and end up with better predictions."
   ]
  },
  {
   "cell_type": "code",
   "execution_count": 23,
   "metadata": {},
   "outputs": [
    {
     "name": "stdout",
     "output_type": "stream",
     "text": [
      "\n",
      "Stats of batch 4:\n",
      "Samples: 10000\n",
      "Label Counts: {0: 1003, 1: 963, 2: 1041, 3: 976, 4: 1004, 5: 1021, 6: 1004, 7: 981, 8: 1024, 9: 983}\n",
      "First 20 Labels: [0, 6, 0, 2, 7, 2, 1, 2, 4, 1, 5, 6, 6, 3, 1, 3, 5, 5, 8, 1]\n",
      "\n",
      "Example of Image 10:\n",
      "Image - Min Value: 44 Max Value: 246\n",
      "Image - Shape: (32, 32, 3)\n",
      "Label - Label Id: 5 Name: dog\n"
     ]
    },
    {
     "data": {
      "image/png": "[encoded data removed]",
      "text/plain": [
       "<matplotlib.figure.Figure at 0x124fc2588>"
      ]
     },
     "metadata": {
      "image/png": {
       "height": 250,
       "width": 253
      }
     },
     "output_type": "display_data"
    }
   ],
   "source": [
    "%matplotlib inline\n",
    "%config InlineBackend.figure_format = 'retina'\n",
    "\n",
    "import helper\n",
    "import numpy as np\n",
    "\n",
    "# Explore the dataset\n",
    "batch_id = 4\n",
    "sample_id = 10\n",
    "helper.display_stats(cifar10_dataset_folder_path, batch_id, sample_id)"
   ]
  },
  {
   "cell_type": "markdown",
   "metadata": {},
   "source": [
    "## Preprocess the Data\n",
    "\n",
    "Now let us design a series of helper functions that help us do our traditional pre-processing process:\n",
    "1. Normalize\n",
    "2. Encode\n",
    "3. Randomize"
   ]
  },
  {
   "cell_type": "markdown",
   "metadata": {},
   "source": [
    "### Normalize\n",
    "In the cell below, we've implemented the `normalize` function to take in image data, `x`, and return it as a normalized Numpy array such that the values should be in the range of 0 to 1, inclusive.  The return object should be the same shape as `x` (i.e. `mxn"
   ]
  },
  {
   "cell_type": "code",
   "execution_count": 9,
   "metadata": {},
   "outputs": [
    {
     "name": "stdout",
     "output_type": "stream",
     "text": [
      "Tests Passed\n"
     ]
    }
   ],
   "source": [
    "def normalize(x):\n",
    "    \"\"\"\n",
    "    Normalize a list of sample image data in the range of 0 to 1\n",
    "    : x: List of image data.  The image shape is (32, 32, 3)\n",
    "    : return: Numpy array of normalize data\n",
    "    \"\"\"\n",
    "    return (x - np.min(x))/(np.max(x) - np.min(x)) # Quick normalize (z-score is probably more rigorous)\n",
    "\n",
    "\n",
    "\"\"\"\n",
    "DON'T MODIFY ANYTHING IN THIS CELL THAT IS BELOW THIS LINE\n",
    "\"\"\"\n",
    "tests.test_normalize(normalize)"
   ]
  },
  {
   "cell_type": "markdown",
   "metadata": {},
   "source": [
    "### One-hot encode\n",
    "\n",
    "This time, we'll implement the `one_hot_encode` function, where the input, `x`, are a list of labels. \n",
    "\n",
    "The possible values for labels are 0 to 9, and are given such that each label gets its own vector with a 0s for every other label except the one we're after. In this way, we are **encoding** categorial variables into numerical (binary) variables. \n",
    "\n",
    "The one-hot encoding function should return the same encoding for each value between each call to `one_hot_encode`, so we have to be sure to save the map of encodings outside the function."
   ]
  },
  {
   "cell_type": "code",
   "execution_count": 4,
   "metadata": {
    "scrolled": true
   },
   "outputs": [
    {
     "name": "stdout",
     "output_type": "stream",
     "text": [
      "Tests Passed\n"
     ]
    }
   ],
   "source": [
    "def one_hot_encode(x):\n",
    "    \"\"\"\n",
    "    One hot encode a list of sample labels. Return a one-hot encoded vector for each label.\n",
    "    : x: List of sample Labels\n",
    "    : return: Numpy array of one-hot encoded labels\n",
    "    \"\"\"\n",
    "    return np.eye(10)[x] # Returns the matching identity matrix's row\n",
    "\n",
    "\n",
    "\n",
    "\"\"\"\n",
    "DON'T MODIFY ANYTHING IN THIS CELL THAT IS BELOW THIS LINE\n",
    "\"\"\"\n",
    "tests.test_one_hot_encode(one_hot_encode)"
   ]
  },
  {
   "cell_type": "markdown",
   "metadata": {},
   "source": [
    "### Randomize Data\n",
    "As you saw from exploring the data above, the order of the samples are randomized. Typically, this isn't built right into the dataset, so it doesn't hurt to randomize it again."
   ]
  },
  {
   "cell_type": "markdown",
   "metadata": {},
   "source": [
    "## Save the Data\n",
    "\n",
    "Now let's run all these preprocess functions using the helper function `helper.preprocess_and_save_data()`, which  will preprocess all the CIFAR-10 data and save it to file. \n",
    "\n",
    "The code below also uses 10% of the training data for validation."
   ]
  },
  {
   "cell_type": "code",
   "execution_count": 10,
   "metadata": {},
   "outputs": [],
   "source": [
    "\"\"\"\n",
    "DON'T MODIFY ANYTHING IN THIS CELL\n",
    "\"\"\"\n",
    "# Preprocess Training, Validation, and Testing Data\n",
    "helper.preprocess_and_save_data(cifar10_dataset_folder_path, normalize, one_hot_encode)"
   ]
  },
  {
   "cell_type": "markdown",
   "metadata": {},
   "source": [
    "# Check Point\n",
    "\n",
    "This is your first checkpoint.  If you ever decide to come back to this notebook or have to restart the notebook, you can start from here, since the preprocessed data has been saved to disk."
   ]
  },
  {
   "cell_type": "code",
   "execution_count": 11,
   "metadata": {
    "collapsed": true
   },
   "outputs": [],
   "source": [
    "\"\"\"\n",
    "DON'T MODIFY ANYTHING IN THIS CELL\n",
    "\"\"\"\n",
    "import pickle\n",
    "import problem_unittests as tests\n",
    "import helper\n",
    "\n",
    "# Load the Preprocessed Validation data\n",
    "valid_features, valid_labels = pickle.load(open('preprocess_validation.p', mode='rb'))"
   ]
  },
  {
   "cell_type": "markdown",
   "metadata": {},
   "source": [
    "## Build the Network\n",
    "**For the neural network, you'll build each layer into a function.**\n",
    "\n",
    "Most of the code you've seen has been outside of functions. To test your code more thoroughly, we require that you put each layer in a function.  This allows us to give you better feedback and test for simple mistakes using the unittests.\n",
    "\n",
    ">**Note:** There is a small shortcut to this part of the project. In the next couple of problems, you'll have the option to use classes from the [TensorFlow Layers](https://www.tensorflow.org/api_docs/python/tf/layers) or [TensorFlow Layers (contrib)](https://www.tensorflow.org/api_guides/python/contrib.layers) packages to build each layer, except the layers you build in the \"Convolutional and Max Pooling Layer\" section.  TF Layers is similar to Keras's and TFLearn's abstraction to layers, so it's easy to pickup.\n",
    "\n",
    ">However, if you would like to get the most out of this course, try to solve all the problems _without_ using anything from the TF Layers packages. You **can** still use classes from other packages that happen to have the same name as ones you find in TF Layers! For example, instead of using the TF Layers version of the `conv2d` class, [tf.layers.conv2d](https://www.tensorflow.org/api_docs/python/tf/layers/conv2d), you would want to use the TF Neural Network version of `conv2d`, [tf.nn.conv2d](https://www.tensorflow.org/api_docs/python/tf/nn/conv2d). \n",
    "\n",
    "Let's begin!"
   ]
  },
  {
   "cell_type": "markdown",
   "metadata": {},
   "source": [
    "### Input\n",
    "\n",
    "**The neural network needs to read the image data, one-hot encoded labels, and dropout keep probability.**\n",
    "\n",
    "Therefore, we must implement the following functions:\n",
    "* **`neural_net_image_input()`**:\n",
    " * Return a [TF Placeholder](https://www.tensorflow.org/api_docs/python/tf/placeholder).\n",
    " * Set the shape using `image_shape` with batch size set to `None`.\n",
    " * Name the TensorFlow placeholder \"x\" using the TensorFlow `name` parameter in the [TF Placeholder](https://www.tensorflow.org/api_docs/python/tf/placeholder).\n",
    "* **`neural_net_label_input()`**:\n",
    " * Return a [TF Placeholder](https://www.tensorflow.org/api_docs/python/tf/placeholder).\n",
    " * Set the shape using `n_classes` with batch size set to `None`.\n",
    " * Name the TensorFlow placeholder \"y\" using the TensorFlow `name` parameter in the [TF Placeholder](https://www.tensorflow.org/api_docs/python/tf/placeholder).\n",
    "* **`neural_net_keep_prob_input()`**:\n",
    " * Return a [TF Placeholder](https://www.tensorflow.org/api_docs/python/tf/placeholder) for dropout keep probability.\n",
    " * Name the TensorFlow placeholder \"keep_prob\" using the TensorFlow `name` parameter in the [TF Placeholder](https://www.tensorflow.org/api_docs/python/tf/placeholder).\n",
    "\n",
    "These names will be used at the end of the project to load your saved model.\n",
    "\n",
    "Note: `None` for shapes in TensorFlow allow for a dynamic size."
   ]
  },
  {
   "cell_type": "code",
   "execution_count": 42,
   "metadata": {},
   "outputs": [
    {
     "name": "stdout",
     "output_type": "stream",
     "text": [
      "Image Input Tests Passed.\n",
      "Label Input Tests Passed.\n",
      "Keep Prob Tests Passed.\n"
     ]
    }
   ],
   "source": [
    "import tensorflow as tf\n",
    "\n",
    "def neural_net_image_input(image_shape):\n",
    "    \"\"\"\n",
    "    Return a Tensor for a batch of image input\n",
    "    : image_shape: Shape of the images\n",
    "    : return: Tensor for image input.\n",
    "    \"\"\"\n",
    "    return tf.placeholder(tf.float32, [None, *image_shape], name='x') # Empty placeholder for image data\n",
    "\n",
    "\n",
    "\n",
    "def neural_net_label_input(n_classes):\n",
    "    \"\"\"\n",
    "    Return a Tensor for a batch of label input\n",
    "    : n_classes: Number of classes\n",
    "    : return: Tensor for label input.\n",
    "    \"\"\"\n",
    "    return tf.placeholder(tf.float32, [None, n_classes], name='y') # Empty placeholder for encoded classes\n",
    "\n",
    "\n",
    "def neural_net_keep_prob_input():\n",
    "    \"\"\"\n",
    "    Return a Tensor for keep probability\n",
    "    : return: Tensor for keep probability.\n",
    "    \"\"\"\n",
    "    return tf.placeholder(tf.float32, name='keep_prob') # Not empty, and has no shape; just here to hold values\n",
    "\n",
    "\n",
    "\"\"\"\n",
    "DON'T MODIFY ANYTHING IN THIS CELL THAT IS BELOW THIS LINE\n",
    "\"\"\"\n",
    "\n",
    "tf.reset_default_graph()\n",
    "tests.test_nn_image_inputs(neural_net_image_input)\n",
    "tests.test_nn_label_inputs(neural_net_label_input)\n",
    "tests.test_nn_keep_prob_inputs(neural_net_keep_prob_input)"
   ]
  },
  {
   "cell_type": "markdown",
   "metadata": {},
   "source": [
    "### Convolution and Max Pooling Layer\n",
    "\n",
    "Now we have a basic neural network skeleton. How do we build on this structure with specialized layers in order to improve performance. \n",
    "\n",
    "Convolution layers have a lot of success with images. So in the next, let's implement the function `conv2d_maxpool()` to apply convolution then max pooling.\n",
    "\n",
    "It must accomplish the following: \n",
    "* Create the weight and bias using `conv_ksize`, `conv_num_outputs` and the shape of `x_tensor`.\n",
    "* Apply a convolution to `x_tensor` using weight and `conv_strides`.\n",
    "* We recommend you use same padding, but you're welcome to use any padding.\n",
    "* Add bias\n",
    "* Add a nonlinear activation to the convolution.\n",
    "* Apply Max Pooling using `pool_ksize` and `pool_strides`.\n",
    "* We recommend you use same padding, but you're welcome to use any padding.\n",
    "\n",
    "**Note:** You **can't** use [TensorFlow Layers](https://www.tensorflow.org/api_docs/python/tf/layers) or [TensorFlow Layers (contrib)](https://www.tensorflow.org/api_guides/python/contrib.layers) for **this** layer, but you can still use TensorFlow's [Neural Network](https://www.tensorflow.org/api_docs/python/tf/nn) package. You may still use the shortcut option for all the **other** layers."
   ]
  },
  {
   "cell_type": "code",
   "execution_count": 56,
   "metadata": {},
   "outputs": [
    {
     "name": "stdout",
     "output_type": "stream",
     "text": [
      "Tests Passed\n"
     ]
    }
   ],
   "source": [
    "def conv2d_maxpool(x_tensor, conv_num_outputs, conv_ksize, conv_strides, pool_ksize, pool_strides):\n",
    "    \"\"\"\n",
    "    Apply convolution then max pooling to x_tensor\n",
    "    :param x_tensor: TensorFlow Tensor\n",
    "    :param conv_num_outputs: Number of outputs for the convolutional layer\n",
    "    :param conv_ksize: kernal size 2-D Tuple for the convolutional layer\n",
    "    :param conv_strides: Stride 2-D Tuple for convolution\n",
    "    :param pool_ksize: kernal size 2-D Tuple for pool\n",
    "    :param pool_strides: Stride 2-D Tuple for pool\n",
    "    : return: A tensor that represents convolution and max pooling of x_tensor\n",
    "    \"\"\"\n",
    "    # Shapes\n",
    "    in_depth = int(x_tensor.shape[3]) # Conv input shape (Why is this 5 and not 3 for RGB? Padding, Batch #, orImage Label?)\n",
    "    out_depth = conv_num_outputs # Conv outputs (Labels) \n",
    "    w_shape = [*conv_ksize, in_depth, out_depth] # Weight matrix, by convert conv_ksize from tuple, and shaping it like the i/o\n",
    "    \n",
    "    # Weights and Biases\n",
    "    w = tf.Variable(tf.random_normal(w_shape, stddev=0.1)) # Randomized weight matrix using the weight shape\n",
    "    b = tf.Variable(tf.zeros(out_depth)) # Zeroed bias matrix with the out shape\n",
    "    \n",
    "    # Strides\n",
    "    conv_strides = [1, *conv_strides, 1] # Convert stride argument into 4d: batch, in_width, in_height, in_channels \n",
    "    x = tf.nn.conv2d(x_tensor, w, strides=conv_strides, padding='SAME') # Pass the stuff in and keep the shape with padding\n",
    "    \n",
    "    # Bias\n",
    "    x = tf.nn.bias_add(x, b) # Straight up add the bias to the convoluted image \n",
    "    x = tf.nn.relu(x) # Use ReLU as our activation function (biased to keep it noisy, and therefore more trustworthy)\n",
    "    \n",
    "    # Pools\n",
    "    pool_ksize = [1, *pool_ksize, 1] # How large of a pool are we convoluting over? \n",
    "    pool_strides = [1, *pool_strides, 1] # How many strides? \n",
    "    x = tf.nn.max_pool(x, pool_ksize, pool_strides, padding='SAME') # Pool this layer over the image at sizes we defined\n",
    "    \n",
    "    return x\n",
    "\n",
    "\n",
    "\"\"\"\n",
    "DON'T MODIFY ANYTHING IN THIS CELL THAT IS BELOW THIS LINE\n",
    "\"\"\"\n",
    "tests.test_con_pool(conv2d_maxpool)"
   ]
  },
  {
   "cell_type": "markdown",
   "metadata": {},
   "source": [
    "### Flatten Layer\n",
    "Implement the `flatten` function to change the dimension of `x_tensor` from a 4-D tensor to a 2-D tensor. \n",
    "\n",
    "The output should be the shape (*Batch Size*, *Flattened Image Size*). Shortcut option: you can use classes from the [TensorFlow Layers](https://www.tensorflow.org/api_docs/python/tf/layers) or [TensorFlow Layers (contrib)](https://www.tensorflow.org/api_guides/python/contrib.layers) packages for this layer. For more of a challenge, only use other TensorFlow packages."
   ]
  },
  {
   "cell_type": "code",
   "execution_count": 70,
   "metadata": {},
   "outputs": [
    {
     "name": "stdout",
     "output_type": "stream",
     "text": [
      "Tests Passed\n"
     ]
    }
   ],
   "source": [
    "def flatten(x_tensor):\n",
    "    \"\"\"\n",
    "    Flatten x_tensor to (Batch Size, Flattened Image Size)\n",
    "    : x_tensor: A tensor of size (Batch Size, ...), where ... are the image dimensions.\n",
    "    : return: A tensor of size (Batch Size, Flattened Image Size).\n",
    "    \"\"\"\n",
    "    batch_size, *img_size = x_tensor.get_shape().as_list() # Iterate to grab the img_size from the list\n",
    "    img_size = img_size[0] * img_size[1] * img_size[2] # Multiply all the dimensions \n",
    "    return tf.reshape(x_tensor, [-1, img_size]) # Flatten the x_tensor into 1D (2D because batch_size is still a variable)\n",
    "\n",
    "\"\"\"\n",
    "DON'T MODIFY ANYTHING IN THIS CELL THAT IS BELOW THIS LINE\n",
    "\"\"\"\n",
    "tests.test_flatten(flatten)"
   ]
  },
  {
   "cell_type": "markdown",
   "metadata": {},
   "source": [
    "### Fully-Connected Layer\n",
    "Implement the `fully_conn` function to apply a fully connected layer to `x_tensor` with the shape (*Batch Size*, *num_outputs*).\n",
    "\n",
    "Shortcut option: you can use classes from the [TensorFlow Layers](https://www.tensorflow.org/api_docs/python/tf/layers) or [TensorFlow Layers (contrib)](https://www.tensorflow.org/api_guides/python/contrib.layers) packages for this layer. For more of a challenge, only use other TensorFlow packages."
   ]
  },
  {
   "cell_type": "code",
   "execution_count": 81,
   "metadata": {},
   "outputs": [
    {
     "name": "stdout",
     "output_type": "stream",
     "text": [
      "Tests Passed\n"
     ]
    }
   ],
   "source": [
    "def fully_conn(x_tensor, num_outputs):\n",
    "    \"\"\"\n",
    "    Apply a fully connected layer to x_tensor using weight and bias\n",
    "    : x_tensor: A 2-D tensor where the first dimension is batch size.\n",
    "    : num_outputs: The number of output that the new tensor should be.\n",
    "    : return: A 2-D tensor where the second dimension is num_outputs.\n",
    "    \"\"\"\n",
    "    w_shape = (int(x_tensor.get_shape().as_list()[1]), num_outputs) # What's the shape we want? \n",
    "    w = tf.Variable(tf.random_normal(w_shape, stddev=0.1)) # Let's use that shape in the weight matrix and randomize again\n",
    "    b = tf.Variable(tf.zeros(num_outputs)) # Zeroed bias\n",
    "    x = tf.add(tf.matmul(x_tensor, w), b) # Multiple the input tensor with the weights, the add biases\n",
    "    x = tf.nn.relu(x) # ReLU activation again\n",
    "    return x\n",
    "\n",
    "\n",
    "\n",
    "\"\"\"\n",
    "DON'T MODIFY ANYTHING IN THIS CELL THAT IS BELOW THIS LINE\n",
    "\"\"\"\n",
    "tests.test_fully_conn(fully_conn)"
   ]
  },
  {
   "cell_type": "markdown",
   "metadata": {},
   "source": [
    "### Output Layer\n",
    "Implement the `output` function to apply a fully connected layer to `x_tensor` with the shape (*Batch Size*, *num_outputs*). Shortcut option: you can use classes from the [TensorFlow Layers](https://www.tensorflow.org/api_docs/python/tf/layers) or [TensorFlow Layers (contrib)](https://www.tensorflow.org/api_guides/python/contrib.layers) packages for this layer. For more of a challenge, only use other TensorFlow packages.\n",
    "\n",
    "**Note:** Activation, softmax, or cross entropy should **not** be applied to this."
   ]
  },
  {
   "cell_type": "code",
   "execution_count": 82,
   "metadata": {},
   "outputs": [
    {
     "name": "stdout",
     "output_type": "stream",
     "text": [
      "40\n",
      "Tests Passed\n"
     ]
    }
   ],
   "source": [
    "def output(x_tensor, num_outputs):\n",
    "    \"\"\"\n",
    "    Apply a output layer to x_tensor using weight and bias\n",
    "    : x_tensor: A 2-D tensor where the first dimension is batch size.\n",
    "    : num_outputs: The number of output that the new tensor should be.\n",
    "    : return: A 2-D tensor where the second dimension is num_outputs.\n",
    "    \"\"\"\n",
    "    w_shape = [int(x_tensor.get_shape().as_list()[1]), num_outputs] # Same dance; whats the shape\n",
    "    w = tf.Variable(tf.random_normal(w_shape, stddev=0.1)) # Normalize them\n",
    "    b = tf.Variable(tf.zeros(num_outputs)) # Zero the biases\n",
    "    x = tf.add(tf.matmul(x_tensor, w), b) # Now multiply and add the biases\n",
    "    return x # Working layer! \n",
    "\n",
    "\n",
    "\n",
    "\"\"\"\n",
    "DON'T MODIFY ANYTHING IN THIS CELL THAT IS BELOW THIS LINE\n",
    "\"\"\"\n",
    "tests.test_output(output)"
   ]
  },
  {
   "cell_type": "markdown",
   "metadata": {},
   "source": [
    "### Create Convolutional Model\n",
    "\n",
    "**Now let's put it all together!**. The reason we use the 'layers' convention is because a neural network really is just a series of matrix transformations organized into logical layers. In fact, as we can see above, the basic structure of a layer is generally consistent:\n",
    "* Determine the input shape of the incoming tensor\n",
    "* Generate a normally-distributed weight vector\n",
    "* Create a zeroed bias vector\n",
    "* Apply that weight vector against the input vector, then add the bias\n",
    "* Return the output of your layer\n",
    "\n",
    "Rinse and repeat until every layer can successfully interact with every other layer. For example, here we implement the function `conv_net` to create a convolutional neural network model. \n",
    "\n",
    "The function takes in a batch of images, `x`, and outputs logits (to match our one-hot system). We will use the layers you created above to create this model:\n",
    "1. Apply 1, 2, or 3 Convolution and Max Pool layers\n",
    "2. Apply a Flatten Layer\n",
    "3. Apply 1, 2, or 3 Fully Connected Layers\n",
    "4. Apply an Output Layer\n",
    "5. Return the output\n",
    "6. Apply [TensorFlow's Dropout](https://www.tensorflow.org/api_docs/python/tf/nn/dropout) to one or more layers in the model using `keep_prob`"
   ]
  },
  {
   "cell_type": "code",
   "execution_count": null,
   "metadata": {
    "collapsed": true
   },
   "outputs": [],
   "source": [
    "def conv_net(x, keep_prob):\n",
    "    \"\"\"\n",
    "    Create a convolutional neural network model\n",
    "    : x: Placeholder tensor that holds image data.\n",
    "    : keep_prob: Placeholder tensor that hold dropout keep probability.\n",
    "    : return: Tensor that represents logits\n",
    "    \"\"\"\n",
    "    # Apply 1, 2, or 3 Convolution and Max Pool layers\n",
    "    #    conv2d_maxpool(x_tensor, conv_num_outputs, conv_ksize, conv_strides, pool_ksize, pool_strides)\n",
    "    \n",
    "    x = conv2d_maxpool(x, 32, (3, 3), (1, 1), (2, 2), (2, 2))\n",
    "    x = conv2d_maxpool(x, 32, (3, 3), (2, 2), (2, 2), (2, 2))\n",
    "    x = conv2d_maxpool(x, 64, (3, 3), (1, 1), (2, 2), (2, 2))\n",
    "\n",
    "    # Apply a Flatten Layer\n",
    "    #   flatten(x_tensor)\n",
    "    \n",
    "    x = flatten(x)\n",
    "\n",
    "\n",
    "    # Apply 1, 2, or 3 Fully Connected Layers\n",
    "    #   fully_conn(x_tensor, num_outputs)\n",
    "    \n",
    "    x = fully_conn(x, 512)\n",
    "    x = tf.nn.dropout(x, keep_prob)\n",
    "    x = fully_conn(x, 128)\n",
    "    x = tf.nn.dropout(x, keep_prob)\n",
    "    \n",
    "    # Apply an Output Layer\n",
    "    #   output(x_tensor, num_outputs)\n",
    "    \n",
    "    out = output(x, 10)\n",
    "\n",
    "    \n",
    "    # Return output\n",
    "    return out\n",
    "\n",
    "\n",
    "\"\"\"\n",
    "DON'T MODIFY ANYTHING IN THIS CELL THAT IS BELOW THIS LINE\n",
    "\"\"\"\n",
    "\n",
    "##############################\n",
    "## Build the Neural Network ##\n",
    "##############################\n",
    "\n",
    "# Remove previous weights, bias, inputs, etc..\n",
    "tf.reset_default_graph()\n",
    "\n",
    "# Inputs\n",
    "x = neural_net_image_input((32, 32, 3))\n",
    "y = neural_net_label_input(10)\n",
    "keep_prob = neural_net_keep_prob_input()\n",
    "\n",
    "# Model\n",
    "logits = conv_net(x, keep_prob)\n",
    "\n",
    "# Name logits Tensor, so that is can be loaded from disk after training\n",
    "logits = tf.identity(logits, name='logits')\n",
    "\n",
    "# Loss and Optimizer\n",
    "cost = tf.reduce_mean(tf.nn.softmax_cross_entropy_with_logits(logits=logits, labels=y))\n",
    "optimizer = tf.train.AdamOptimizer().minimize(cost)\n",
    "\n",
    "# Accuracy\n",
    "correct_pred = tf.equal(tf.argmax(logits, 1), tf.argmax(y, 1))\n",
    "accuracy = tf.reduce_mean(tf.cast(correct_pred, tf.float32), name='accuracy')\n",
    "\n",
    "tests.test_conv_net(conv_net)"
   ]
  },
  {
   "cell_type": "markdown",
   "metadata": {},
   "source": [
    "## Train the Neural Network\n",
    "### Single Optimization\n",
    "Implement the function `train_neural_network` to do a single optimization.  The optimization should use `optimizer` to optimize in `session` with a `feed_dict` of the following:\n",
    "* `x` for image input\n",
    "* `y` for labels\n",
    "* `keep_prob` for keep probability for dropout\n",
    "\n",
    "This function will be called for each batch, so `tf.global_variables_initializer()` has already been called.\n",
    "\n",
    "Note: Nothing needs to be returned. This function is only optimizing the neural network."
   ]
  },
  {
   "cell_type": "code",
   "execution_count": 86,
   "metadata": {},
   "outputs": [
    {
     "name": "stdout",
     "output_type": "stream",
     "text": [
      "Tests Passed\n"
     ]
    }
   ],
   "source": [
    "def train_neural_network(session, optimizer, keep_probability, feature_batch, label_batch):\n",
    "    \"\"\"\n",
    "    Optimize the session on a batch of images and labels\n",
    "    : session: Current TensorFlow session\n",
    "    : optimizer: TensorFlow optimizer function\n",
    "    : keep_probability: keep probability\n",
    "    : feature_batch: Batch of Numpy image data\n",
    "    : label_batch: Batch of Numpy label data\n",
    "    \"\"\"\n",
    "    session.run(optimizer, feed_dict={\n",
    "        x: feature_batch,\n",
    "        y: label_batch,\n",
    "        keep_prob: keep_probability\n",
    "    }) # Feed in our variables at the end; Thanks TF! \n",
    "\n",
    "\"\"\"\n",
    "DON'T MODIFY ANYTHING IN THIS CELL THAT IS BELOW THIS LINE\n",
    "\"\"\"\n",
    "tests.test_train_nn(train_neural_network)"
   ]
  },
  {
   "cell_type": "markdown",
   "metadata": {},
   "source": [
    "### Show Stats\n",
    "Implement the function `print_stats` to print loss and validation accuracy.  Use the global variables `valid_features` and `valid_labels` to calculate validation accuracy.  Use a keep probability of `1.0` to calculate the loss and validation accuracy."
   ]
  },
  {
   "cell_type": "code",
   "execution_count": 87,
   "metadata": {},
   "outputs": [],
   "source": [
    "def print_stats(session, feature_batch, label_batch, cost, accuracy):\n",
    "    \"\"\"\n",
    "    Print information about loss and validation accuracy\n",
    "    : session: Current TensorFlow session\n",
    "    : feature_batch: Batch of Numpy image data\n",
    "    : label_batch: Batch of Numpy label data\n",
    "    : cost: TensorFlow cost function\n",
    "    : accuracy: TensorFlow accuracy function\n",
    "    \"\"\"\n",
    "    \n",
    "    loss = session.run(cost, feed_dict={\n",
    "        x: feature_batch,\n",
    "        y: label_batch,\n",
    "        keep_prob: 1.\n",
    "    })\n",
    "    \n",
    "    valid_accuracy = session.run(accuracy, feed_dict={\n",
    "        x: valid_features,\n",
    "        y: valid_labels,\n",
    "        keep_prob: 1.\n",
    "    })\n",
    "\n",
    "    print('Loss: {:>10.4f} Validation Accuracy: {:.6f}'.format(loss, valid_accuracy))"
   ]
  },
  {
   "cell_type": "markdown",
   "metadata": {},
   "source": [
    "### Hyperparameters\n",
    "Tune the following parameters:\n",
    "* Set `epochs` to the number of iterations until the network stops learning or start overfitting\n",
    "* Set `batch_size` to the highest number that your machine has memory for.  Most people set them to common sizes of memory:\n",
    " * 64\n",
    " * 128\n",
    " * 256\n",
    " * ...\n",
    "* Set `keep_probability` to the probability of keeping a node using dropout"
   ]
  },
  {
   "cell_type": "code",
   "execution_count": 90,
   "metadata": {
    "collapsed": true
   },
   "outputs": [],
   "source": [
    "epochs = 25\n",
    "batch_size = 128\n",
    "keep_probability = 0.5"
   ]
  },
  {
   "cell_type": "markdown",
   "metadata": {},
   "source": [
    "### Train on a Single CIFAR-10 Batch\n",
    "Instead of training the neural network on all the CIFAR-10 batches of data, let's use a single batch. This should save time while you iterate on the model to get a better accuracy.  Once the final validation accuracy is 50% or greater, run the model on all the data in the next section."
   ]
  },
  {
   "cell_type": "code",
   "execution_count": 91,
   "metadata": {},
   "outputs": [
    {
     "name": "stdout",
     "output_type": "stream",
     "text": [
      "Checking the Training on a Single Batch...\n",
      "Epoch  1, CIFAR-10 Batch 1:  Loss:     2.1823 Validation Accuracy: 0.226200\n",
      "Epoch  2, CIFAR-10 Batch 1:  Loss:     2.0578 Validation Accuracy: 0.313400\n",
      "Epoch  3, CIFAR-10 Batch 1:  Loss:     1.8734 Validation Accuracy: 0.395200\n",
      "Epoch  4, CIFAR-10 Batch 1:  Loss:     1.7371 Validation Accuracy: 0.421200\n",
      "Epoch  5, CIFAR-10 Batch 1:  Loss:     1.5951 Validation Accuracy: 0.445200\n",
      "Epoch  6, CIFAR-10 Batch 1:  Loss:     1.4873 Validation Accuracy: 0.453000\n",
      "Epoch  7, CIFAR-10 Batch 1:  Loss:     1.3424 Validation Accuracy: 0.472800\n",
      "Epoch  8, CIFAR-10 Batch 1:  Loss:     1.2677 Validation Accuracy: 0.484800\n",
      "Epoch  9, CIFAR-10 Batch 1:  Loss:     1.2052 Validation Accuracy: 0.495800\n",
      "Epoch 10, CIFAR-10 Batch 1:  Loss:     1.0819 Validation Accuracy: 0.497000\n",
      "Epoch 11, CIFAR-10 Batch 1:  Loss:     1.0358 Validation Accuracy: 0.500800\n",
      "Epoch 12, CIFAR-10 Batch 1:  Loss:     0.9679 Validation Accuracy: 0.509400\n",
      "Epoch 13, CIFAR-10 Batch 1:  Loss:     0.8946 Validation Accuracy: 0.507600\n",
      "Epoch 14, CIFAR-10 Batch 1:  Loss:     0.7910 Validation Accuracy: 0.523200\n",
      "Epoch 15, CIFAR-10 Batch 1:  Loss:     0.7682 Validation Accuracy: 0.520600\n",
      "Epoch 16, CIFAR-10 Batch 1:  Loss:     0.7074 Validation Accuracy: 0.519400\n",
      "Epoch 17, CIFAR-10 Batch 1:  Loss:     0.6698 Validation Accuracy: 0.538800\n",
      "Epoch 18, CIFAR-10 Batch 1:  Loss:     0.5842 Validation Accuracy: 0.539800\n",
      "Epoch 19, CIFAR-10 Batch 1:  Loss:     0.5669 Validation Accuracy: 0.549200\n",
      "Epoch 20, CIFAR-10 Batch 1:  Loss:     0.5604 Validation Accuracy: 0.538800\n",
      "Epoch 21, CIFAR-10 Batch 1:  Loss:     0.4908 Validation Accuracy: 0.554000\n",
      "Epoch 22, CIFAR-10 Batch 1:  Loss:     0.4476 Validation Accuracy: 0.544000\n",
      "Epoch 23, CIFAR-10 Batch 1:  Loss:     0.4307 Validation Accuracy: 0.546000\n",
      "Epoch 24, CIFAR-10 Batch 1:  Loss:     0.4589 Validation Accuracy: 0.544000\n",
      "Epoch 25, CIFAR-10 Batch 1:  Loss:     0.4077 Validation Accuracy: 0.533800\n"
     ]
    }
   ],
   "source": [
    "\"\"\"\n",
    "DON'T MODIFY ANYTHING IN THIS CELL\n",
    "\"\"\"\n",
    "print('Checking the Training on a Single Batch...')\n",
    "with tf.Session() as sess:\n",
    "    # Initializing the variables\n",
    "    sess.run(tf.global_variables_initializer())\n",
    "    \n",
    "    # Training cycle\n",
    "    for epoch in range(epochs):\n",
    "        batch_i = 1\n",
    "        for batch_features, batch_labels in helper.load_preprocess_training_batch(batch_i, batch_size):\n",
    "            train_neural_network(sess, optimizer, keep_probability, batch_features, batch_labels)\n",
    "        print('Epoch {:>2}, CIFAR-10 Batch {}:  '.format(epoch + 1, batch_i), end='')\n",
    "        print_stats(sess, batch_features, batch_labels, cost, accuracy)"
   ]
  },
  {
   "cell_type": "markdown",
   "metadata": {},
   "source": [
    "### Fully Train the Model\n",
    "Now that you got a good accuracy with a single CIFAR-10 batch, try it with all five batches."
   ]
  },
  {
   "cell_type": "code",
   "execution_count": 92,
   "metadata": {},
   "outputs": [
    {
     "name": "stdout",
     "output_type": "stream",
     "text": [
      "Training...\n",
      "Epoch  1, CIFAR-10 Batch 1:  Loss:     2.1323 Validation Accuracy: 0.277000\n",
      "Epoch  1, CIFAR-10 Batch 2:  Loss:     1.8413 Validation Accuracy: 0.356200\n",
      "Epoch  1, CIFAR-10 Batch 3:  Loss:     1.5174 Validation Accuracy: 0.405600\n",
      "Epoch  1, CIFAR-10 Batch 4:  Loss:     1.5753 Validation Accuracy: 0.427200\n",
      "Epoch  1, CIFAR-10 Batch 5:  Loss:     1.5082 Validation Accuracy: 0.439200\n",
      "Epoch  2, CIFAR-10 Batch 1:  Loss:     1.6399 Validation Accuracy: 0.466600\n",
      "Epoch  2, CIFAR-10 Batch 2:  Loss:     1.4184 Validation Accuracy: 0.462200\n",
      "Epoch  2, CIFAR-10 Batch 3:  Loss:     1.3001 Validation Accuracy: 0.485800\n",
      "Epoch  2, CIFAR-10 Batch 4:  Loss:     1.2779 Validation Accuracy: 0.503000\n",
      "Epoch  2, CIFAR-10 Batch 5:  Loss:     1.2878 Validation Accuracy: 0.520200\n",
      "Epoch  3, CIFAR-10 Batch 1:  Loss:     1.3265 Validation Accuracy: 0.526200\n",
      "Epoch  3, CIFAR-10 Batch 2:  Loss:     1.2141 Validation Accuracy: 0.535000\n",
      "Epoch  3, CIFAR-10 Batch 3:  Loss:     1.1099 Validation Accuracy: 0.525000\n",
      "Epoch  3, CIFAR-10 Batch 4:  Loss:     1.1517 Validation Accuracy: 0.541600\n",
      "Epoch  3, CIFAR-10 Batch 5:  Loss:     1.1742 Validation Accuracy: 0.560400\n",
      "Epoch  4, CIFAR-10 Batch 1:  Loss:     1.2036 Validation Accuracy: 0.565400\n",
      "Epoch  4, CIFAR-10 Batch 2:  Loss:     1.0559 Validation Accuracy: 0.541200\n",
      "Epoch  4, CIFAR-10 Batch 3:  Loss:     0.9717 Validation Accuracy: 0.565200\n",
      "Epoch  4, CIFAR-10 Batch 4:  Loss:     0.9908 Validation Accuracy: 0.574400\n",
      "Epoch  4, CIFAR-10 Batch 5:  Loss:     1.0923 Validation Accuracy: 0.568000\n",
      "Epoch  5, CIFAR-10 Batch 1:  Loss:     1.0580 Validation Accuracy: 0.590800\n",
      "Epoch  5, CIFAR-10 Batch 2:  Loss:     0.9204 Validation Accuracy: 0.579400\n",
      "Epoch  5, CIFAR-10 Batch 3:  Loss:     0.8538 Validation Accuracy: 0.584000\n",
      "Epoch  5, CIFAR-10 Batch 4:  Loss:     0.8593 Validation Accuracy: 0.602200\n",
      "Epoch  5, CIFAR-10 Batch 5:  Loss:     0.9825 Validation Accuracy: 0.589400\n",
      "Epoch  6, CIFAR-10 Batch 1:  Loss:     0.9355 Validation Accuracy: 0.605200\n",
      "Epoch  6, CIFAR-10 Batch 2:  Loss:     0.8882 Validation Accuracy: 0.616600\n",
      "Epoch  6, CIFAR-10 Batch 3:  Loss:     0.7543 Validation Accuracy: 0.610600\n",
      "Epoch  6, CIFAR-10 Batch 4:  Loss:     0.8152 Validation Accuracy: 0.617600\n",
      "Epoch  6, CIFAR-10 Batch 5:  Loss:     0.8632 Validation Accuracy: 0.607400\n",
      "Epoch  7, CIFAR-10 Batch 1:  Loss:     0.8888 Validation Accuracy: 0.626000\n",
      "Epoch  7, CIFAR-10 Batch 2:  Loss:     0.8165 Validation Accuracy: 0.629600\n",
      "Epoch  7, CIFAR-10 Batch 3:  Loss:     0.6389 Validation Accuracy: 0.639400\n",
      "Epoch  7, CIFAR-10 Batch 4:  Loss:     0.6760 Validation Accuracy: 0.639200\n",
      "Epoch  7, CIFAR-10 Batch 5:  Loss:     0.7965 Validation Accuracy: 0.633200\n",
      "Epoch  8, CIFAR-10 Batch 1:  Loss:     0.7830 Validation Accuracy: 0.642800\n",
      "Epoch  8, CIFAR-10 Batch 2:  Loss:     0.9060 Validation Accuracy: 0.634400\n",
      "Epoch  8, CIFAR-10 Batch 3:  Loss:     0.6094 Validation Accuracy: 0.649200\n",
      "Epoch  8, CIFAR-10 Batch 4:  Loss:     0.6040 Validation Accuracy: 0.639800\n",
      "Epoch  8, CIFAR-10 Batch 5:  Loss:     0.6343 Validation Accuracy: 0.649000\n",
      "Epoch  9, CIFAR-10 Batch 1:  Loss:     0.6387 Validation Accuracy: 0.634600\n",
      "Epoch  9, CIFAR-10 Batch 2:  Loss:     0.7381 Validation Accuracy: 0.649800\n",
      "Epoch  9, CIFAR-10 Batch 3:  Loss:     0.5265 Validation Accuracy: 0.648000\n",
      "Epoch  9, CIFAR-10 Batch 4:  Loss:     0.5300 Validation Accuracy: 0.641800\n",
      "Epoch  9, CIFAR-10 Batch 5:  Loss:     0.6166 Validation Accuracy: 0.645200\n",
      "Epoch 10, CIFAR-10 Batch 1:  Loss:     0.6229 Validation Accuracy: 0.651000\n",
      "Epoch 10, CIFAR-10 Batch 2:  Loss:     0.6535 Validation Accuracy: 0.668600\n",
      "Epoch 10, CIFAR-10 Batch 3:  Loss:     0.4936 Validation Accuracy: 0.665800\n",
      "Epoch 10, CIFAR-10 Batch 4:  Loss:     0.4791 Validation Accuracy: 0.653600\n",
      "Epoch 10, CIFAR-10 Batch 5:  Loss:     0.6418 Validation Accuracy: 0.633200\n",
      "Epoch 11, CIFAR-10 Batch 1:  Loss:     0.5727 Validation Accuracy: 0.662000\n",
      "Epoch 11, CIFAR-10 Batch 2:  Loss:     0.6777 Validation Accuracy: 0.651400\n",
      "Epoch 11, CIFAR-10 Batch 3:  Loss:     0.4488 Validation Accuracy: 0.657400\n",
      "Epoch 11, CIFAR-10 Batch 4:  Loss:     0.4305 Validation Accuracy: 0.665800\n",
      "Epoch 11, CIFAR-10 Batch 5:  Loss:     0.5391 Validation Accuracy: 0.654400\n",
      "Epoch 12, CIFAR-10 Batch 1:  Loss:     0.5312 Validation Accuracy: 0.660800\n",
      "Epoch 12, CIFAR-10 Batch 2:  Loss:     0.6002 Validation Accuracy: 0.662800\n",
      "Epoch 12, CIFAR-10 Batch 3:  Loss:     0.4168 Validation Accuracy: 0.668600\n",
      "Epoch 12, CIFAR-10 Batch 4:  Loss:     0.4266 Validation Accuracy: 0.671400\n",
      "Epoch 12, CIFAR-10 Batch 5:  Loss:     0.5018 Validation Accuracy: 0.646000\n",
      "Epoch 13, CIFAR-10 Batch 1:  Loss:     0.5089 Validation Accuracy: 0.658400\n",
      "Epoch 13, CIFAR-10 Batch 2:  Loss:     0.5575 Validation Accuracy: 0.674400\n",
      "Epoch 13, CIFAR-10 Batch 3:  Loss:     0.3627 Validation Accuracy: 0.673600\n",
      "Epoch 13, CIFAR-10 Batch 4:  Loss:     0.4580 Validation Accuracy: 0.663800\n",
      "Epoch 13, CIFAR-10 Batch 5:  Loss:     0.4638 Validation Accuracy: 0.644000\n",
      "Epoch 14, CIFAR-10 Batch 1:  Loss:     0.4971 Validation Accuracy: 0.671000\n",
      "Epoch 14, CIFAR-10 Batch 2:  Loss:     0.5141 Validation Accuracy: 0.676400\n",
      "Epoch 14, CIFAR-10 Batch 3:  Loss:     0.4079 Validation Accuracy: 0.680000\n",
      "Epoch 14, CIFAR-10 Batch 4:  Loss:     0.3618 Validation Accuracy: 0.683000\n",
      "Epoch 14, CIFAR-10 Batch 5:  Loss:     0.4240 Validation Accuracy: 0.651200\n",
      "Epoch 15, CIFAR-10 Batch 1:  Loss:     0.5004 Validation Accuracy: 0.654800\n",
      "Epoch 15, CIFAR-10 Batch 2:  Loss:     0.4577 Validation Accuracy: 0.666800\n",
      "Epoch 15, CIFAR-10 Batch 3:  Loss:     0.3450 Validation Accuracy: 0.686200\n",
      "Epoch 15, CIFAR-10 Batch 4:  Loss:     0.3170 Validation Accuracy: 0.675800\n",
      "Epoch 15, CIFAR-10 Batch 5:  Loss:     0.4041 Validation Accuracy: 0.652800\n",
      "Epoch 16, CIFAR-10 Batch 1:  Loss:     0.4111 Validation Accuracy: 0.663800\n",
      "Epoch 16, CIFAR-10 Batch 2:  Loss:     0.3878 Validation Accuracy: 0.680200\n",
      "Epoch 16, CIFAR-10 Batch 3:  Loss:     0.3182 Validation Accuracy: 0.680600\n",
      "Epoch 16, CIFAR-10 Batch 4:  Loss:     0.3143 Validation Accuracy: 0.684800\n",
      "Epoch 16, CIFAR-10 Batch 5:  Loss:     0.3104 Validation Accuracy: 0.668000\n",
      "Epoch 17, CIFAR-10 Batch 1:  Loss:     0.3664 Validation Accuracy: 0.667600\n",
      "Epoch 17, CIFAR-10 Batch 2:  Loss:     0.3991 Validation Accuracy: 0.671600\n",
      "Epoch 17, CIFAR-10 Batch 3:  Loss:     0.3181 Validation Accuracy: 0.673200\n",
      "Epoch 17, CIFAR-10 Batch 4:  Loss:     0.3340 Validation Accuracy: 0.673200\n",
      "Epoch 17, CIFAR-10 Batch 5:  Loss:     0.3382 Validation Accuracy: 0.660800\n",
      "Epoch 18, CIFAR-10 Batch 1:  Loss:     0.3686 Validation Accuracy: 0.677200\n",
      "Epoch 18, CIFAR-10 Batch 2:  Loss:     0.3758 Validation Accuracy: 0.688200\n",
      "Epoch 18, CIFAR-10 Batch 3:  Loss:     0.2736 Validation Accuracy: 0.673400\n",
      "Epoch 18, CIFAR-10 Batch 4:  Loss:     0.2924 Validation Accuracy: 0.667600\n",
      "Epoch 18, CIFAR-10 Batch 5:  Loss:     0.3403 Validation Accuracy: 0.648200\n",
      "Epoch 19, CIFAR-10 Batch 1:  Loss:     0.3731 Validation Accuracy: 0.674600\n",
      "Epoch 19, CIFAR-10 Batch 2:  Loss:     0.3194 Validation Accuracy: 0.668800\n",
      "Epoch 19, CIFAR-10 Batch 3:  Loss:     0.2626 Validation Accuracy: 0.667400\n",
      "Epoch 19, CIFAR-10 Batch 4:  Loss:     0.2633 Validation Accuracy: 0.682000\n",
      "Epoch 19, CIFAR-10 Batch 5:  Loss:     0.2710 Validation Accuracy: 0.661000\n",
      "Epoch 20, CIFAR-10 Batch 1:  Loss:     0.3455 Validation Accuracy: 0.671000\n",
      "Epoch 20, CIFAR-10 Batch 2:  Loss:     0.3456 Validation Accuracy: 0.683400\n",
      "Epoch 20, CIFAR-10 Batch 3:  Loss:     0.2348 Validation Accuracy: 0.675600\n",
      "Epoch 20, CIFAR-10 Batch 4:  Loss:     0.2519 Validation Accuracy: 0.675200\n",
      "Epoch 20, CIFAR-10 Batch 5:  Loss:     0.2592 Validation Accuracy: 0.671200\n",
      "Epoch 21, CIFAR-10 Batch 1:  Loss:     0.3323 Validation Accuracy: 0.685000\n",
      "Epoch 21, CIFAR-10 Batch 2:  Loss:     0.2767 Validation Accuracy: 0.683800\n",
      "Epoch 21, CIFAR-10 Batch 3:  Loss:     0.2049 Validation Accuracy: 0.683200\n",
      "Epoch 21, CIFAR-10 Batch 4:  Loss:     0.2235 Validation Accuracy: 0.689200\n",
      "Epoch 21, CIFAR-10 Batch 5:  Loss:     0.2637 Validation Accuracy: 0.671200\n",
      "Epoch 22, CIFAR-10 Batch 1:  Loss:     0.3097 Validation Accuracy: 0.670200\n",
      "Epoch 22, CIFAR-10 Batch 2:  Loss:     0.2695 Validation Accuracy: 0.682600\n",
      "Epoch 22, CIFAR-10 Batch 3:  Loss:     0.2412 Validation Accuracy: 0.680200\n"
     ]
    },
    {
     "name": "stdout",
     "output_type": "stream",
     "text": [
      "Epoch 22, CIFAR-10 Batch 4:  Loss:     0.1858 Validation Accuracy: 0.679000\n",
      "Epoch 22, CIFAR-10 Batch 5:  Loss:     0.2196 Validation Accuracy: 0.676400\n",
      "Epoch 23, CIFAR-10 Batch 1:  Loss:     0.2877 Validation Accuracy: 0.688400\n",
      "Epoch 23, CIFAR-10 Batch 2:  Loss:     0.2807 Validation Accuracy: 0.672200\n",
      "Epoch 23, CIFAR-10 Batch 3:  Loss:     0.2234 Validation Accuracy: 0.685000\n",
      "Epoch 23, CIFAR-10 Batch 4:  Loss:     0.2006 Validation Accuracy: 0.676600\n",
      "Epoch 23, CIFAR-10 Batch 5:  Loss:     0.2079 Validation Accuracy: 0.673400\n",
      "Epoch 24, CIFAR-10 Batch 1:  Loss:     0.2698 Validation Accuracy: 0.690400\n",
      "Epoch 24, CIFAR-10 Batch 2:  Loss:     0.2394 Validation Accuracy: 0.681600\n",
      "Epoch 24, CIFAR-10 Batch 3:  Loss:     0.1790 Validation Accuracy: 0.682200\n",
      "Epoch 24, CIFAR-10 Batch 4:  Loss:     0.1687 Validation Accuracy: 0.684800\n",
      "Epoch 24, CIFAR-10 Batch 5:  Loss:     0.1899 Validation Accuracy: 0.676600\n",
      "Epoch 25, CIFAR-10 Batch 1:  Loss:     0.2374 Validation Accuracy: 0.691000\n",
      "Epoch 25, CIFAR-10 Batch 2:  Loss:     0.1913 Validation Accuracy: 0.682000\n",
      "Epoch 25, CIFAR-10 Batch 3:  Loss:     0.1675 Validation Accuracy: 0.682400\n",
      "Epoch 25, CIFAR-10 Batch 4:  Loss:     0.1971 Validation Accuracy: 0.673800\n",
      "Epoch 25, CIFAR-10 Batch 5:  Loss:     0.1936 Validation Accuracy: 0.677600\n"
     ]
    }
   ],
   "source": [
    "\"\"\"\n",
    "DON'T MODIFY ANYTHING IN THIS CELL\n",
    "\"\"\"\n",
    "save_model_path = './image_classification'\n",
    "\n",
    "print('Training...')\n",
    "with tf.Session() as sess:\n",
    "    # Initializing the variables\n",
    "    sess.run(tf.global_variables_initializer())\n",
    "    \n",
    "    # Training cycle\n",
    "    for epoch in range(epochs):\n",
    "        # Loop over all batches\n",
    "        n_batches = 5\n",
    "        for batch_i in range(1, n_batches + 1):\n",
    "            for batch_features, batch_labels in helper.load_preprocess_training_batch(batch_i, batch_size):\n",
    "                train_neural_network(sess, optimizer, keep_probability, batch_features, batch_labels)\n",
    "            print('Epoch {:>2}, CIFAR-10 Batch {}:  '.format(epoch + 1, batch_i), end='')\n",
    "            print_stats(sess, batch_features, batch_labels, cost, accuracy)\n",
    "            \n",
    "    # Save Model\n",
    "    saver = tf.train.Saver()\n",
    "    save_path = saver.save(sess, save_model_path)"
   ]
  },
  {
   "cell_type": "markdown",
   "metadata": {},
   "source": [
    "# Checkpoint\n",
    "The model has been saved to disk.\n",
    "## Test Model\n",
    "Test your model against the test dataset.  This will be your final accuracy. You should have an accuracy greater than 50%. If you don't, keep tweaking the model architecture and parameters."
   ]
  },
  {
   "cell_type": "code",
   "execution_count": 93,
   "metadata": {},
   "outputs": [
    {
     "name": "stdout",
     "output_type": "stream",
     "text": [
      "INFO:tensorflow:Restoring parameters from ./image_classification\n",
      "Testing Accuracy: 0.6720727848101266\n",
      "\n"
     ]
    },
    {
     "data": {
      "image/png": "[encoded data removed]",
      "text/plain": [
       "<matplotlib.figure.Figure at 0x11e7dcd30>"
      ]
     },
     "metadata": {
      "image/png": {
       "height": 319,
       "width": 355
      }
     },
     "output_type": "display_data"
    }
   ],
   "source": [
    "\"\"\"\n",
    "DON'T MODIFY ANYTHING IN THIS CELL\n",
    "\"\"\"\n",
    "%matplotlib inline\n",
    "%config InlineBackend.figure_format = 'retina'\n",
    "\n",
    "import tensorflow as tf\n",
    "import pickle\n",
    "import helper\n",
    "import random\n",
    "\n",
    "# Set batch size if not already set\n",
    "try:\n",
    "    if batch_size:\n",
    "        pass\n",
    "except NameError:\n",
    "    batch_size = 64\n",
    "\n",
    "save_model_path = './image_classification'\n",
    "n_samples = 4\n",
    "top_n_predictions = 3\n",
    "\n",
    "def test_model():\n",
    "    \"\"\"\n",
    "    Test the saved model against the test dataset\n",
    "    \"\"\"\n",
    "\n",
    "    test_features, test_labels = pickle.load(open('preprocess_test.p', mode='rb'))\n",
    "    loaded_graph = tf.Graph()\n",
    "\n",
    "    with tf.Session(graph=loaded_graph) as sess:\n",
    "        # Load model\n",
    "        loader = tf.train.import_meta_graph(save_model_path + '.meta')\n",
    "        loader.restore(sess, save_model_path)\n",
    "\n",
    "        # Get Tensors from loaded model\n",
    "        loaded_x = loaded_graph.get_tensor_by_name('x:0')\n",
    "        loaded_y = loaded_graph.get_tensor_by_name('y:0')\n",
    "        loaded_keep_prob = loaded_graph.get_tensor_by_name('keep_prob:0')\n",
    "        loaded_logits = loaded_graph.get_tensor_by_name('logits:0')\n",
    "        loaded_acc = loaded_graph.get_tensor_by_name('accuracy:0')\n",
    "        \n",
    "        # Get accuracy in batches for memory limitations\n",
    "        test_batch_acc_total = 0\n",
    "        test_batch_count = 0\n",
    "        \n",
    "        for test_feature_batch, test_label_batch in helper.batch_features_labels(test_features, test_labels, batch_size):\n",
    "            test_batch_acc_total += sess.run(\n",
    "                loaded_acc,\n",
    "                feed_dict={loaded_x: test_feature_batch, loaded_y: test_label_batch, loaded_keep_prob: 1.0})\n",
    "            test_batch_count += 1\n",
    "\n",
    "        print('Testing Accuracy: {}\\n'.format(test_batch_acc_total/test_batch_count))\n",
    "\n",
    "        # Print Random Samples\n",
    "        random_test_features, random_test_labels = tuple(zip(*random.sample(list(zip(test_features, test_labels)), n_samples)))\n",
    "        random_test_predictions = sess.run(\n",
    "            tf.nn.top_k(tf.nn.softmax(loaded_logits), top_n_predictions),\n",
    "            feed_dict={loaded_x: random_test_features, loaded_y: random_test_labels, loaded_keep_prob: 1.0})\n",
    "        helper.display_image_predictions(random_test_features, random_test_labels, random_test_predictions)\n",
    "\n",
    "\n",
    "test_model()"
   ]
  },
  {
   "cell_type": "markdown",
   "metadata": {},
   "source": [
    "## Improve Model Accuracy\n",
    "You might be wondering why you can't get an accuracy any higher. \n",
    "\n",
    "Firstly, 50% isn't bad for a simple CNN, since pure guessing would get you 10% accuracy. However, you might notice people are getting scores [well above 80%](http://rodrigob.github.io/are_we_there_yet/build/classification_datasets_results.html#43494641522d3130).  \n",
    "\n",
    "That's because we haven't taught you all there is to know about neural networks. We still need to cover a few more techniques to get that last few basis points. Stay tuned!"
   ]
  }
 ],
 "metadata": {
  "kernelspec": {
   "display_name": "Python 3",
   "language": "python",
   "name": "python3"
  },
  "language_info": {
   "codemirror_mode": {
    "name": "ipython",
    "version": 3
   },
   "file_extension": ".py",
   "mimetype": "text/x-python",
   "name": "python",
   "nbconvert_exporter": "python",
   "pygments_lexer": "ipython3",
   "version": "3.6.1"
  }
 },
 "nbformat": 4,
 "nbformat_minor": 1
}
